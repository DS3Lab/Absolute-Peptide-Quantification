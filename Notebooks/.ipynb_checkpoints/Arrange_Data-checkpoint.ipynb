{
 "cells": [
  {
   "cell_type": "code",
   "execution_count": 1,
   "metadata": {
    "collapsed": true
   },
   "outputs": [],
   "source": [
    "import os\n",
    "import sys\n",
    "import shutil\n",
    "import math\n",
    "from PIL import Image\n",
    "import PIL.ImageOps"
   ]
  },
  {
   "cell_type": "code",
   "execution_count": 2,
   "metadata": {},
   "outputs": [
    {
     "data": {
      "text/plain": [
       "{'CTWLIEGQPNR': 1,\n",
       " 'DCSSIPSVPGSCK': 2,\n",
       " 'DINTFVGTPVEK': 3,\n",
       " 'DNYLGGTSTISDNAK': 4,\n",
       " 'FDTQYPYGEK': 6,\n",
       " 'FPQLDSTSFANSR': 7,\n",
       " 'GCVPEPGAAVAASK': 8,\n",
       " 'GGYTLVSGYPK': 10,\n",
       " 'IIDGVPVEITEK': 13,\n",
       " 'LNISFPATGCQK': 14,\n",
       " 'LSEPAELTDAVK': 15,\n",
       " 'NAQCVTLPVTQVSPK': 16,\n",
       " 'RTEGVGPGVPGEVEMVK': 18,\n",
       " 'VLTQASNPVVCTQPK': 26,\n",
       " 'VYENYPTYDLTER': 27,\n",
       " 'YQEVTNNLEFAK': 28}"
      ]
     },
     "execution_count": 2,
     "metadata": {},
     "output_type": "execute_result"
    }
   ],
   "source": [
    "# Build dictionary of labels\n",
    "image_dir_root_pep = r\"D:\\ETH\\RA\\Aqua_Peptide_Extraction\\mzxml_decoy\\Black_BG_227\\guot__PC4_170203_CPP2_sw\"\n",
    "peptide_dict_enumerated = dict(enumerate(os.listdir(image_dir_root_pep)))\n",
    "decoy_list=['SLVTGYGYGPK', 'TELPVDESALAK', 'YYTTDPEYLENVR', 'RVGMVGPGEPEEVVGTK', 'GYYQEPTDFK', 'GFVETNIVPDTK', 'AGAPAPVVCASEGK',\n",
    "            'EVVEIPDITIGK', 'VISCGPSCPSDSK', 'GIELQWTNPCR', 'TFAQGPINCLSK', 'SPSTNFLQASDFR', 'TGDISYNTSLNADGK', 'NTNFLEQEAVYK',\n",
    "           'YYTTDPEYLENVR']\n",
    "peptide_dict_enumerated = {v: k for k, v in peptide_dict_enumerated.items()}\n",
    "peptide_dict_enumerated = {k:v for (k,v) in peptide_dict_enumerated.items() if k not in decoy_list}\n",
    "peptide_dict_enumerated"
   ]
  },
  {
   "cell_type": "code",
   "execution_count": 3,
   "metadata": {
    "collapsed": true
   },
   "outputs": [],
   "source": [
    "# Build dictionary for percentage count\n",
    "image_dir_root = # Image directory\n",
    "peptide_count_full = {}\n",
    "for root, dirs, files in os.walk(image_dir_root):\n",
    "    for file in files:\n",
    "        if \"rank_1\" in file:\n",
    "            peptide_name = file[0:file.index(\"_\")]\n",
    "            if peptide_name in peptide_count_full:\n",
    "                peptide_count_full[peptide_name] += 1\n",
    "            else:\n",
    "                peptide_count_full[peptide_name] = 1"
   ]
  },
  {
   "cell_type": "code",
   "execution_count": 32,
   "metadata": {
    "collapsed": true
   },
   "outputs": [],
   "source": [
    "# Create train.txt and val.txt\n",
    "\n",
    "percentage_train = 70\n",
    "peptide_count = {}\n",
    "for root, dirs, files in os.walk(image_dir_root):\n",
    "    for file in files:\n",
    "        peptide_name = file[0:file.index(\"_\")]\n",
    "        if \"rank_1\" in file and peptide_name not in decoy_list:\n",
    "            if peptide_name in peptide_count:\n",
    "                peptide_count[peptide_name] += 1\n",
    "            else:\n",
    "                peptide_count[peptide_name] = 1\n",
    "            if peptide_count[peptide_name] < math.floor((percentage_train/100)*peptide_count_full[peptide_name]):\n",
    "                with open(\"train.txt\", \"a\") as text_file:\n",
    "                    print(\"{} {}\".format(os.path.join(root,file),peptide_dict_enumerated[peptide_name]), file=text_file)\n",
    "            else:\n",
    "                with open(\"val.txt\", \"a\") as text_file:\n",
    "                    print(\"{} {}\".format(os.path.join(root,file),peptide_dict_enumerated[peptide_name]), file=text_file)"
   ]
  },
  {
   "cell_type": "code",
   "execution_count": 33,
   "metadata": {},
   "outputs": [
    {
     "name": "stdout",
     "output_type": "stream",
     "text": [
      "Done creating train and val text files!\n"
     ]
    }
   ],
   "source": [
    "print(\"Done creating train and val text files!\")"
   ]
  },
  {
   "cell_type": "code",
   "execution_count": 3,
   "metadata": {
    "collapsed": true
   },
   "outputs": [],
   "source": [
    "# Resize and Invert Images and Save\n",
    "\n",
    "size = 227,227\n",
    "image_dir_root = # Image directory\n",
    "for root, dirs, files in os.walk(image_dir_root):\n",
    "    for file in files:\n",
    "        raw_image = Image.open(os.path.join(root,file))\n",
    "        raw_image.thumbnail(size, PIL.Image.LANCZOS)\n",
    "        if raw_image.mode == 'RGBA':\n",
    "            r,g,b,a = raw_image.split()\n",
    "            rgb_image = Image.merge('RGB', (r,g,b))\n",
    "            inverted_image = PIL.ImageOps.invert(rgb_image)\n",
    "            r2,g2,b2 = inverted_image.split()\n",
    "            final_transparent_image = Image.merge('RGBA', (r2,g2,b2,a))\n",
    "            outputdir = #Image directory output .format(root[root.index(\"guot\"):])\n",
    "            if not os.path.exists(outputdir):\n",
    "                os.makedirs(outputdir)\n",
    "            final_transparent_image.save(outputdir + r\"\\{}\".format(file))"
   ]
  },
  {
   "cell_type": "code",
   "execution_count": 4,
   "metadata": {},
   "outputs": [
    {
     "name": "stdout",
     "output_type": "stream",
     "text": [
      "Done converting!\n"
     ]
    }
   ],
   "source": [
    "print(\"Done converting!\")"
   ]
  },
  {
   "cell_type": "code",
   "execution_count": 4,
   "metadata": {
    "collapsed": true
   },
   "outputs": [],
   "source": [
    "percentage_train = 70\n",
    "peptide_count = {}\n",
    "for root, dirs, files in os.walk(image_dir_root):\n",
    "    for file in files:\n",
    "        if \"rank_1\" in file:\n",
    "            peptide_name = file[0:file.index(\"_\")]\n",
    "            if peptide_name in peptide_count:\n",
    "                peptide_count[peptide_name] += 1\n",
    "            else:\n",
    "                peptide_count[peptide_name] = 1\n",
    "            if peptide_count[peptide_name] < math.floor((percentage_train/100)*peptide_count_full[peptide_name]):\n",
    "                outputdir = r\"train\\{}\".format(peptide_name)\n",
    "            else:\n",
    "                outputdir = r\"validation\\{}\".format(peptide_name)\n",
    "            if not os.path.exists(outputdir):\n",
    "                os.makedirs(outputdir)\n",
    "            shutil.copy2(os.path.join(root,file), outputdir + r\"\\{}{}.png\".format(peptide_name,peptide_count[peptide_name]))"
   ]
  },
  {
   "cell_type": "code",
   "execution_count": 5,
   "metadata": {},
   "outputs": [
    {
     "data": {
      "text/plain": [
       "388"
      ]
     },
     "execution_count": 5,
     "metadata": {},
     "output_type": "execute_result"
    }
   ],
   "source": [
    "peptide_count_full[\"NAQCVTLPVTQVSPK\"]"
   ]
  },
  {
   "cell_type": "code",
   "execution_count": 6,
   "metadata": {},
   "outputs": [
    {
     "name": "stdout",
     "output_type": "stream",
     "text": [
      "Completed creating training and validation dataset!\n"
     ]
    }
   ],
   "source": [
    "print(\"Completed creating training and validation dataset!\")"
   ]
  },
  {
   "cell_type": "code",
   "execution_count": 7,
   "metadata": {},
   "outputs": [
    {
     "name": "stdout",
     "output_type": "stream",
     "text": [
      "1.2.0\n"
     ]
    }
   ],
   "source": [
    "import tensorflow as tf\n",
    "print(tf.__version__)"
   ]
  }
 ],
 "metadata": {
  "kernelspec": {
   "display_name": "Python 3",
   "language": "python",
   "name": "python3"
  },
  "language_info": {
   "codemirror_mode": {
    "name": "ipython",
    "version": 3
   },
   "file_extension": ".py",
   "mimetype": "text/x-python",
   "name": "python",
   "nbconvert_exporter": "python",
   "pygments_lexer": "ipython3",
   "version": "3.5.3"
  }
 },
 "nbformat": 4,
 "nbformat_minor": 2
}
